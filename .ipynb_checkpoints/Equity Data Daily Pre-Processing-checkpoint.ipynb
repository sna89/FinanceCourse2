{
 "cells": [
  {
   "cell_type": "code",
   "execution_count": 1,
   "metadata": {
    "scrolled": false
   },
   "outputs": [
    {
     "name": "stdout",
     "output_type": "stream",
     "text": [
      "AAPL\n",
      "SBUX\n",
      "MSFT\n",
      "CSCO\n",
      "QCOM\n"
     ]
    },
    {
     "ename": "PermissionError",
     "evalue": "[Errno 13] Permission denied: 'equities.csv'",
     "output_type": "error",
     "traceback": [
      "\u001b[1;31m---------------------------------------------------------------------------\u001b[0m",
      "\u001b[1;31mPermissionError\u001b[0m                           Traceback (most recent call last)",
      "\u001b[1;32m<ipython-input-1-6f5dbb90e245>\u001b[0m in \u001b[0;36m<module>\u001b[1;34m()\u001b[0m\n\u001b[0;32m     53\u001b[0m \u001b[0mequity_df\u001b[0m\u001b[1;33m[\u001b[0m\u001b[1;34m'Quarter'\u001b[0m\u001b[1;33m]\u001b[0m \u001b[1;33m=\u001b[0m \u001b[0minstance_stock_shares_df\u001b[0m\u001b[1;33m[\u001b[0m\u001b[1;34m'Str_Qtr'\u001b[0m\u001b[1;33m]\u001b[0m\u001b[1;33m\u001b[0m\u001b[0m\n\u001b[0;32m     54\u001b[0m \u001b[0mequity_df\u001b[0m\u001b[1;33m.\u001b[0m\u001b[0mindex\u001b[0m \u001b[1;33m=\u001b[0m \u001b[0minstance_stock_shares_df\u001b[0m\u001b[1;33m[\u001b[0m\u001b[1;34m'Date'\u001b[0m\u001b[1;33m]\u001b[0m\u001b[1;33m\u001b[0m\u001b[0m\n\u001b[1;32m---> 55\u001b[1;33m \u001b[0mequity_df\u001b[0m\u001b[1;33m.\u001b[0m\u001b[0mto_csv\u001b[0m\u001b[1;33m(\u001b[0m\u001b[1;34m'equities.csv'\u001b[0m\u001b[1;33m)\u001b[0m\u001b[1;33m\u001b[0m\u001b[0m\n\u001b[0m",
      "\u001b[1;32m~\\AppData\\Local\\Continuum\\anaconda3\\lib\\site-packages\\pandas\\core\\generic.py\u001b[0m in \u001b[0;36mto_csv\u001b[1;34m(self, path_or_buf, sep, na_rep, float_format, columns, header, index, index_label, mode, encoding, compression, quoting, quotechar, line_terminator, chunksize, tupleize_cols, date_format, doublequote, escapechar, decimal)\u001b[0m\n\u001b[0;32m   3008\u001b[0m                                  \u001b[0mdoublequote\u001b[0m\u001b[1;33m=\u001b[0m\u001b[0mdoublequote\u001b[0m\u001b[1;33m,\u001b[0m\u001b[1;33m\u001b[0m\u001b[0m\n\u001b[0;32m   3009\u001b[0m                                  escapechar=escapechar, decimal=decimal)\n\u001b[1;32m-> 3010\u001b[1;33m         \u001b[0mformatter\u001b[0m\u001b[1;33m.\u001b[0m\u001b[0msave\u001b[0m\u001b[1;33m(\u001b[0m\u001b[1;33m)\u001b[0m\u001b[1;33m\u001b[0m\u001b[0m\n\u001b[0m\u001b[0;32m   3011\u001b[0m \u001b[1;33m\u001b[0m\u001b[0m\n\u001b[0;32m   3012\u001b[0m         \u001b[1;32mif\u001b[0m \u001b[0mpath_or_buf\u001b[0m \u001b[1;32mis\u001b[0m \u001b[1;32mNone\u001b[0m\u001b[1;33m:\u001b[0m\u001b[1;33m\u001b[0m\u001b[0m\n",
      "\u001b[1;32m~\\AppData\\Local\\Continuum\\anaconda3\\lib\\site-packages\\pandas\\io\\formats\\csvs.py\u001b[0m in \u001b[0;36msave\u001b[1;34m(self)\u001b[0m\n\u001b[0;32m    155\u001b[0m             f, handles = _get_handle(self.path_or_buf, self.mode,\n\u001b[0;32m    156\u001b[0m                                      \u001b[0mencoding\u001b[0m\u001b[1;33m=\u001b[0m\u001b[0mself\u001b[0m\u001b[1;33m.\u001b[0m\u001b[0mencoding\u001b[0m\u001b[1;33m,\u001b[0m\u001b[1;33m\u001b[0m\u001b[0m\n\u001b[1;32m--> 157\u001b[1;33m                                      compression=self.compression)\n\u001b[0m\u001b[0;32m    158\u001b[0m             \u001b[0mclose\u001b[0m \u001b[1;33m=\u001b[0m \u001b[1;32mTrue\u001b[0m\u001b[1;33m\u001b[0m\u001b[0m\n\u001b[0;32m    159\u001b[0m \u001b[1;33m\u001b[0m\u001b[0m\n",
      "\u001b[1;32m~\\AppData\\Local\\Continuum\\anaconda3\\lib\\site-packages\\pandas\\io\\common.py\u001b[0m in \u001b[0;36m_get_handle\u001b[1;34m(path_or_buf, mode, encoding, compression, memory_map, is_text)\u001b[0m\n\u001b[0;32m    422\u001b[0m         \u001b[1;32melif\u001b[0m \u001b[0mencoding\u001b[0m\u001b[1;33m:\u001b[0m\u001b[1;33m\u001b[0m\u001b[0m\n\u001b[0;32m    423\u001b[0m             \u001b[1;31m# Python 3 and encoding\u001b[0m\u001b[1;33m\u001b[0m\u001b[1;33m\u001b[0m\u001b[0m\n\u001b[1;32m--> 424\u001b[1;33m             \u001b[0mf\u001b[0m \u001b[1;33m=\u001b[0m \u001b[0mopen\u001b[0m\u001b[1;33m(\u001b[0m\u001b[0mpath_or_buf\u001b[0m\u001b[1;33m,\u001b[0m \u001b[0mmode\u001b[0m\u001b[1;33m,\u001b[0m \u001b[0mencoding\u001b[0m\u001b[1;33m=\u001b[0m\u001b[0mencoding\u001b[0m\u001b[1;33m,\u001b[0m \u001b[0mnewline\u001b[0m\u001b[1;33m=\u001b[0m\u001b[1;34m\"\"\u001b[0m\u001b[1;33m)\u001b[0m\u001b[1;33m\u001b[0m\u001b[0m\n\u001b[0m\u001b[0;32m    425\u001b[0m         \u001b[1;32melif\u001b[0m \u001b[0mis_text\u001b[0m\u001b[1;33m:\u001b[0m\u001b[1;33m\u001b[0m\u001b[0m\n\u001b[0;32m    426\u001b[0m             \u001b[1;31m# Python 3 and no explicit encoding\u001b[0m\u001b[1;33m\u001b[0m\u001b[1;33m\u001b[0m\u001b[0m\n",
      "\u001b[1;31mPermissionError\u001b[0m: [Errno 13] Permission denied: 'equities.csv'"
     ]
    }
   ],
   "source": [
    "import pandas as pd\n",
    "import numpy as np\n",
    "import matplotlib.pyplot as plt\n",
    "\n",
    "\n",
    "def to_quarter(row):\n",
    "    quarter = str(row['year'])+'q'+str(row['qtr_num'])\n",
    "    return quarter\n",
    "\n",
    "def str_quarter(row):\n",
    "    period = row['Quarter']\n",
    "    year = period.year\n",
    "    quarter = period.quarter\n",
    "    qtr = str(year) + 'q' + str(quarter)\n",
    "    return qtr\n",
    "\n",
    "def calc_equity(row):\n",
    "    close = row['Close']\n",
    "    shares = row['shares_in_milions']\n",
    "    shares = shares.replace(',', '')\n",
    "    shares = int(shares)\n",
    "    return close*shares\n",
    "\n",
    "def create_instance_stock_df(instance):\n",
    "    instance_stock_df = pd.read_csv(instance + '.csv')\n",
    "    instance_stock_df['Quarter'] = pd.PeriodIndex(pd.to_datetime(instance_stock_df['Date']), freq='Q')\n",
    "    instance_stock_df['Date'] = pd.PeriodIndex(pd.to_datetime(instance_stock_df['Date']), freq='d')\n",
    "    instance_stock_df = instance_stock_df.sort_values(by='Date',ascending=True)\n",
    "    instance_stock_df['Str_Qtr'] = instance_stock_df.apply(str_quarter, axis=1)\n",
    "    return instance_stock_df[['Date', 'Close', 'Quarter', 'Str_Qtr']]\n",
    "\n",
    "def create_instance_shares_df(instance):\n",
    "    csv_file_name = 'shares_{instance}.csv'.format(instance=instance)\n",
    "    instance_shares_df = pd.read_csv(csv_file_name, names=['qtr_num','year','shares_in_milions'] )\n",
    "    instance_shares_df['Str_Qtr'] = instance_shares_df.apply(to_quarter, axis=1)\n",
    "    return instance_shares_df[['Str_Qtr', 'shares_in_milions']].sort_values(by='Str_Qtr',ascending=False)\n",
    "\n",
    "INSTANCE_LIST = ['AAPL', 'SBUX', 'MSFT', 'CSCO', 'QCOM']\n",
    "\n",
    "for instance in INSTANCE_LIST:\n",
    "    stock_df = create_instance_stock_df(instance)\n",
    "    shares_df = create_instance_shares_df(instance)\n",
    "    instance_stock_shares_df = pd.merge(stock_df, shares_df, how='inner', on=['Str_Qtr'])\n",
    "    instance_stock_shares_df['Equity_in_milions'] = instance_stock_shares_df.apply(calc_equity, axis=1)\n",
    "    instance_stock_shares_df[['Date','Str_Qtr','Close','shares_in_milions', 'Equity_in_milions']]\n",
    "    instance_stock_shares_df.to_csv(instance + '_equity.csv')\n",
    "    \n",
    "equity_df = pd.DataFrame()\n",
    "for instance in INSTANCE_LIST:\n",
    "    print(instance)\n",
    "    instance_stock_shares_df = pd.read_csv(instance + '_equity.csv')\n",
    "    equity_df[instance] = instance_stock_shares_df['Equity_in_milions']\n",
    "equity_df['Quarter'] = instance_stock_shares_df['Str_Qtr']\n",
    "equity_df.index = instance_stock_shares_df['Date']\n",
    "equity_df.to_csv('equities.csv')"
   ]
  },
  {
   "cell_type": "code",
   "execution_count": 24,
   "metadata": {},
   "outputs": [
    {
     "name": "stdout",
     "output_type": "stream",
     "text": [
      "                   aapl       sbux        msft       csco      qcom Quarter\n",
      "Date                                                                       \n",
      "2010-02-16  189800.9772  17537.520  246503.250  136200.00  64304.96  2010q1\n",
      "2010-02-17  189007.9924  17744.475  248590.050  136597.25  64980.64  2010q1\n",
      "2010-02-18  189360.7204  17828.790  251885.455  137789.00  65606.88  2010q1\n",
      "2010-02-19  188186.9200  17905.440  250155.150  138243.00  65244.32  2010q1\n",
      "2010-02-22  187016.3856  17552.850  249807.350  137902.50  64288.48  2010q1\n"
     ]
    }
   ],
   "source": []
  },
  {
   "cell_type": "code",
   "execution_count": null,
   "metadata": {},
   "outputs": [],
   "source": []
  }
 ],
 "metadata": {
  "kernelspec": {
   "display_name": "Python 3",
   "language": "python",
   "name": "python3"
  },
  "language_info": {
   "codemirror_mode": {
    "name": "ipython",
    "version": 3
   },
   "file_extension": ".py",
   "mimetype": "text/x-python",
   "name": "python",
   "nbconvert_exporter": "python",
   "pygments_lexer": "ipython3",
   "version": "3.6.5"
  }
 },
 "nbformat": 4,
 "nbformat_minor": 2
}
