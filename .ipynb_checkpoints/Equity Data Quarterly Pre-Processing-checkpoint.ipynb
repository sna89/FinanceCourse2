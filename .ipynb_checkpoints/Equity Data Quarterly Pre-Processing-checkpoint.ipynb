{
 "cells": [
  {
   "cell_type": "code",
   "execution_count": 4,
   "metadata": {
    "scrolled": false
   },
   "outputs": [
    {
     "name": "stdout",
     "output_type": "stream",
     "text": [
      "AAPL\n",
      "SBUX\n",
      "MSFT\n",
      "CSCO\n",
      "QCOM\n"
     ]
    }
   ],
   "source": [
    "import pandas as pd\n",
    "import numpy as np\n",
    "import matplotlib.pyplot as plt\n",
    "\n",
    "INSTANCE_LIST = ['AAPL', 'SBUX', 'MSFT', 'CSCO', 'QCOM']\n",
    "\n",
    "def str_date_to_quarter(row):\n",
    "    quarter = str(int(row['Year']))+'q'+str(int(row['Quarter']))\n",
    "    return quarter\n",
    "\n",
    "def date_to_quarter(row):\n",
    "    period = row['Quarter']\n",
    "    year = period.year\n",
    "    quarter = period.quarter\n",
    "    qtr = str(year) + 'q' + str(quarter)\n",
    "    return qtr\n",
    "\n",
    "def calc_equity(row):\n",
    "    close = row['Close']\n",
    "    shares = row['Shares']\n",
    "    shares = shares.replace(',', '')\n",
    "    shares = int(shares)\n",
    "    return close*shares\n",
    "\n",
    "def create_stock_df(instance):\n",
    "    stock_df = pd.read_csv(instance + '.csv')\n",
    "    stock_df['Quarter'] = pd.PeriodIndex(pd.to_datetime(stock_df['Date']), freq='Q')\n",
    "    stock_df['Date'] = pd.to_datetime(stock_df['Date'])\n",
    "    stock_df = stock_df[['Date', 'Close', 'Quarter']].groupby('Quarter').max()\n",
    "    stock_df = stock_df.reset_index()\n",
    "    stock_df['Quarter'] = stock_df.apply(date_to_quarter, axis=1)\n",
    "    return stock_df\n",
    "\n",
    "def create_shares_df(instance):\n",
    "    csv_file_name = 'shares_{instance}.csv'.format(instance=instance)\n",
    "    shares_df = pd.read_csv(csv_file_name)\n",
    "    shares_df.rename(columns={'shares':'Shares'}, inplace=True)\n",
    "    shares_df['Quarter'] = shares_df.apply(str_date_to_quarter, axis=1)\n",
    "    \n",
    "    return shares_df\n",
    "\n",
    "for instance in INSTANCE_LIST:\n",
    "    print(instance)\n",
    "    stock_df = create_stock_df(instance)\n",
    "    shares_df = create_shares_df(instance)\n",
    "    stock_shares_df = pd.merge(stock_df, shares_df, how='inner', on=['Quarter'])\n",
    "    stock_shares_df['Equity_in_milions'] = stock_shares_df.apply(calc_equity, axis=1)\n",
    "    stock_shares_df[['Date','Quarter', 'Close', 'Shares', 'Equity_in_milions']]\n",
    "    stock_shares_df.to_csv(instance + '_equity.csv')"
   ]
  },
  {
   "cell_type": "code",
   "execution_count": 6,
   "metadata": {},
   "outputs": [
    {
     "name": "stdout",
     "output_type": "stream",
     "text": [
      "                  aapl       sbux           msft           csco          qcom\n",
      "Quarter                                                                      \n",
      "2009q3   168838.049093  15486.960  179148.488904  138400.904143  81056.851673\n",
      "2009q4   194648.326830  18167.030  216533.720000  143134.974129  79240.261691\n",
      "2010q1   217655.849760  19604.520  233019.028983  156222.300000  83010.661678\n",
      "2010q2   254180.360628  21530.985  280971.881049  161808.330000  71082.181642\n",
      "2010q3   270312.467054  20077.920  276043.600000  144854.960000  74825.541658\n"
     ]
    }
   ],
   "source": [
    "equity_df = pd.DataFrame()\n",
    "for instance in INSTANCE_LIST:\n",
    "    instance = instance.lower()\n",
    "    stock_shares_df = pd.read_csv(instance + '_equity.csv')\n",
    "    equity_df[instance] = stock_shares_df['Equity_in_milions']\n",
    "equity_df.index = stock_shares_df['Quarter']\n",
    "equity_df.to_csv('equities.csv')"
   ]
  },
  {
   "cell_type": "code",
   "execution_count": null,
   "metadata": {},
   "outputs": [],
   "source": []
  }
 ],
 "metadata": {
  "kernelspec": {
   "display_name": "Python 3",
   "language": "python",
   "name": "python3"
  },
  "language_info": {
   "codemirror_mode": {
    "name": "ipython",
    "version": 3
   },
   "file_extension": ".py",
   "mimetype": "text/x-python",
   "name": "python",
   "nbconvert_exporter": "python",
   "pygments_lexer": "ipython3",
   "version": "3.6.5"
  }
 },
 "nbformat": 4,
 "nbformat_minor": 2
}
